{
 "cells": [
  {
   "cell_type": "code",
   "execution_count": 1,
   "id": "80fc7e57-c033-4230-9731-7c48e4886dfe",
   "metadata": {},
   "outputs": [],
   "source": [
    "class Solution(object):\n",
    "    def twoSum(self, nums, target):\n",
    "        \"\"\"\n",
    "        :type nums: List[int]\n",
    "        :type target: int\n",
    "        :rtype: List[int]\n",
    "        \"\"\"\n",
    "        hmap = {} \n",
    "        #enumerate : parcourt une liste en obtenant à la fois l'indice et la valeur de chaque élément\n",
    "        for index, nb in enumerate(nums):\n",
    "            diff = target - nb\n",
    "            if diff in hmap :\n",
    "                return [hmap[diff],index] #si diff dans hmap, fin de la recherche et on affiche la solution\n",
    "            hmap[nb] = index #sinon, on ajoute nb et index dans la hmap et on continue l'itération"
   ]
  },
  {
   "cell_type": "code",
   "execution_count": 6,
   "id": "213839c4-d27d-4ab4-987d-5a6c7d39a550",
   "metadata": {},
   "outputs": [
    {
     "name": "stdout",
     "output_type": "stream",
     "text": [
      "[0, 1]\n"
     ]
    }
   ],
   "source": [
    "# 1. Créer une instance de la classe Solution\n",
    "sol = Solution()\n",
    "\n",
    "# 2. Tester avec une liste d'exemple et une cible\n",
    "result = sol.twoSum([2, 7, 11, 15], 9)\n",
    "\n",
    "# 3. Afficher le résultat\n",
    "print(result)  # Résultat attendu : [0, 1]\n"
   ]
  },
  {
   "cell_type": "code",
   "execution_count": null,
   "id": "6674e47d-4880-42fe-ad37-59509b987069",
   "metadata": {},
   "outputs": [],
   "source": []
  }
 ],
 "metadata": {
  "kernelspec": {
   "display_name": "Python 3 (ipykernel)",
   "language": "python",
   "name": "python3"
  },
  "language_info": {
   "codemirror_mode": {
    "name": "ipython",
    "version": 3
   },
   "file_extension": ".py",
   "mimetype": "text/x-python",
   "name": "python",
   "nbconvert_exporter": "python",
   "pygments_lexer": "ipython3",
   "version": "3.9.6"
  }
 },
 "nbformat": 4,
 "nbformat_minor": 5
}
