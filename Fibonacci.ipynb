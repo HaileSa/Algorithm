{
 "cells": [
  {
   "cell_type": "code",
   "execution_count": 14,
   "id": "aa2ae964-9dcb-4f44-80c9-271548305387",
   "metadata": {},
   "outputs": [],
   "source": [
    "def Fibonacci(n):\n",
    "    if n==0:\n",
    "        return 0\n",
    "    elif n==1:\n",
    "        return 1\n",
    "    return Fibonacci(n-1) + Fibonacci(n-2)"
   ]
  },
  {
   "cell_type": "code",
   "execution_count": 25,
   "id": "563f4b78-43b2-488c-959d-0fb152b50273",
   "metadata": {},
   "outputs": [
    {
     "name": "stdout",
     "output_type": "stream",
     "text": [
      "CPU times: user 811 µs, sys: 1e+03 ns, total: 812 µs\n",
      "Wall time: 822 µs\n"
     ]
    },
    {
     "data": {
      "text/plain": [
       "610"
      ]
     },
     "execution_count": 25,
     "metadata": {},
     "output_type": "execute_result"
    }
   ],
   "source": [
    "%%time\n",
    "Fibonacci(15)"
   ]
  },
  {
   "cell_type": "code",
   "execution_count": 26,
   "id": "56d16f74-30e6-4281-b21f-52a54f64d8ee",
   "metadata": {},
   "outputs": [],
   "source": [
    "def Fibo(n):\n",
    "    fibo = {0: 0, 1: 1} \n",
    "\n",
    "    def fibonacci(n):\n",
    "        if n not in fibo:\n",
    "            fibo[n] = fibonacci(n - 1) + fibonacci(n - 2) \n",
    "        return fibo[n]\n",
    "\n",
    "    return fibonacci(n)"
   ]
  },
  {
   "cell_type": "code",
   "execution_count": 28,
   "id": "c204a62e-98dc-4b9c-aecd-31951a654ad8",
   "metadata": {},
   "outputs": [
    {
     "name": "stdout",
     "output_type": "stream",
     "text": [
      "CPU times: user 46 µs, sys: 1e+03 ns, total: 47 µs\n",
      "Wall time: 56.7 µs\n"
     ]
    },
    {
     "data": {
      "text/plain": [
       "610"
      ]
     },
     "execution_count": 28,
     "metadata": {},
     "output_type": "execute_result"
    }
   ],
   "source": [
    "%%time\n",
    "Fibo(15)"
   ]
  },
  {
   "cell_type": "code",
   "execution_count": null,
   "id": "0e319d35-10b7-4eee-9b91-4c6068399128",
   "metadata": {},
   "outputs": [],
   "source": []
  },
  {
   "cell_type": "code",
   "execution_count": null,
   "id": "0d9f4db4-04b0-4fdd-be31-51bc68c7237b",
   "metadata": {},
   "outputs": [],
   "source": []
  }
 ],
 "metadata": {
  "kernelspec": {
   "display_name": "Python 3 (ipykernel)",
   "language": "python",
   "name": "python3"
  },
  "language_info": {
   "codemirror_mode": {
    "name": "ipython",
    "version": 3
   },
   "file_extension": ".py",
   "mimetype": "text/x-python",
   "name": "python",
   "nbconvert_exporter": "python",
   "pygments_lexer": "ipython3",
   "version": "3.9.6"
  }
 },
 "nbformat": 4,
 "nbformat_minor": 5
}
