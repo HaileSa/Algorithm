{
 "cells": [
  {
   "cell_type": "markdown",
   "id": "cf8a5ba4-45d2-410f-af02-1365887d073d",
   "metadata": {},
   "source": [
    "## Trouver le tableau de somme consécutive maximum\n",
    "\n",
    "**Input** t = [2,3,-8,7,-1,2,3]\n",
    "\n",
    "**Output** = 11\n",
    "\n",
    "En O(n), sinon O(n^2)\n",
    "\n",
    "idée : Faire la somme du tableau entier et stocker le résultat dans une variable. Par la suite, rechercher un avec un élément en moins à chaque fois, vérifier que la somme soit inférieure à la somme stocker dans la variable, si oui écraser la valeur initiale et comparer avec un élément en moins encore.\n"
   ]
  },
  {
   "cell_type": "markdown",
   "id": "430d52db-e8cf-4aea-8680-e8e8e3e51a64",
   "metadata": {},
   "source": [
    "Initialiser :\n",
    "res : 0\n",
    "\n",
    "Itération : \n",
    "if sum(t[element:])> res:\n",
    "    res=sum(t[element:])"
   ]
  },
  {
   "cell_type": "code",
   "execution_count": 1,
   "id": "9c7deb94-a0fc-4df9-8896-7216843fc669",
   "metadata": {},
   "outputs": [],
   "source": [
    "def max_consecutive_sum(t):\n",
    "    res = float('-inf')\n",
    "    \n",
    "    for i in range(len(t)):\n",
    "        current_sum = 0\n",
    "        \n",
    "        for j in range(i, len(t)):\n",
    "            current_sum += t[j]\n",
    "            \n",
    "            if current_sum > res:\n",
    "                res = current_sum\n",
    "    \n",
    "    return res"
   ]
  },
  {
   "cell_type": "code",
   "execution_count": 3,
   "id": "7881dfbc-918b-459a-9229-ffe8eb95da68",
   "metadata": {},
   "outputs": [
    {
     "data": {
      "text/plain": [
       "11"
      ]
     },
     "execution_count": 3,
     "metadata": {},
     "output_type": "execute_result"
    }
   ],
   "source": [
    "max_consecutive_sum([2,3,-8,7,-1,2,3])"
   ]
  },
  {
   "cell_type": "code",
   "execution_count": null,
   "id": "18f5e14d-1024-4690-b44b-aba76f24b58d",
   "metadata": {},
   "outputs": [],
   "source": []
  }
 ],
 "metadata": {
  "kernelspec": {
   "display_name": "Python 3 (ipykernel)",
   "language": "python",
   "name": "python3"
  },
  "language_info": {
   "codemirror_mode": {
    "name": "ipython",
    "version": 3
   },
   "file_extension": ".py",
   "mimetype": "text/x-python",
   "name": "python",
   "nbconvert_exporter": "python",
   "pygments_lexer": "ipython3",
   "version": "3.9.6"
  }
 },
 "nbformat": 4,
 "nbformat_minor": 5
}
