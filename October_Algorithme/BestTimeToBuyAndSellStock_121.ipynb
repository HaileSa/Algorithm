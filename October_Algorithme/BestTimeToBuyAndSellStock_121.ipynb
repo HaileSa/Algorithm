{
 "cells": [
  {
   "cell_type": "code",
   "execution_count": 1,
   "id": "5ef57b54-4745-4e20-9bc6-05d6b7d415b3",
   "metadata": {},
   "outputs": [],
   "source": [
    "class Solution(object):\n",
    "    def maxProfit(self, prices):\n",
    "        \"\"\"\n",
    "        :type prices: List[int]\n",
    "        :rtype: int\n",
    "        \"\"\"\n",
    "        #buy : + bas // sell : + haut\n",
    "        buy, sell = 0,1\n",
    "        maxprofit= 0\n",
    "\n",
    "\n",
    "        while sell < len(prices):\n",
    "            lprice = prices[buy]\n",
    "            hprice = prices[sell]\n",
    "            if lprice < hprice :\n",
    "                profit = hprice - lprice\n",
    "                if profit > maxprofit :\n",
    "                    maxprofit = profit\n",
    "                sell += 1\n",
    "            else :\n",
    "                buy = sell\n",
    "                sell += 1\n",
    "        return maxprofit\n",
    "\n",
    " ## CODE À OPTIMISER MAYBE\n"
   ]
  },
  {
   "cell_type": "code",
   "execution_count": 2,
   "id": "319485b5-822e-461d-8b73-12ae57029605",
   "metadata": {},
   "outputs": [
    {
     "name": "stdout",
     "output_type": "stream",
     "text": [
      "0\n",
      "4\n"
     ]
    }
   ],
   "source": [
    "sol = Solution()\n",
    "print(sol.maxProfit([7, 6, 4, 3, 1]))  # Aucun profit possible, résultat attendu : 0\n",
    "print(sol.maxProfit([1, 2, 3, 4, 5]))  # Acheter au jour 1 et vendre au jour 5, résultat attendu : 4"
   ]
  },
  {
   "cell_type": "code",
   "execution_count": null,
   "id": "60ee68f1-8009-4c1f-be28-0065a1f1a1af",
   "metadata": {},
   "outputs": [],
   "source": []
  }
 ],
 "metadata": {
  "kernelspec": {
   "display_name": "Python 3 (ipykernel)",
   "language": "python",
   "name": "python3"
  },
  "language_info": {
   "codemirror_mode": {
    "name": "ipython",
    "version": 3
   },
   "file_extension": ".py",
   "mimetype": "text/x-python",
   "name": "python",
   "nbconvert_exporter": "python",
   "pygments_lexer": "ipython3",
   "version": "3.9.6"
  }
 },
 "nbformat": 4,
 "nbformat_minor": 5
}
