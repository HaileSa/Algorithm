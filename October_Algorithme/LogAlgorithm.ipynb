{
 "cells": [
  {
   "cell_type": "code",
   "execution_count": 4,
   "id": "72ad2a8a-75d4-49eb-8216-5bfec6f1123b",
   "metadata": {},
   "outputs": [
    {
     "name": "stdout",
     "output_type": "stream",
     "text": [
      "L'indice de 0 est : 9\n"
     ]
    }
   ],
   "source": [
    "def find_zero(L):\n",
    "    a = 0\n",
    "    b = len(L) - 1\n",
    "    while True:\n",
    "        h = (a + b) // 2\n",
    "        if L[h] == 0:\n",
    "            return h\n",
    "        elif L[h] > 0:\n",
    "            b = h\n",
    "        elif L[h] < 0:\n",
    "            a = h\n",
    "\n",
    "L = [-100, -80, -60, -50, -20, -10, -5, -2, -1, 0, 40, 50, 60, 80, 100]\n",
    "\n",
    "index_of_zero = find_zero(L)\n",
    "print(f\"L'indice de 0 est : {index_of_zero}\")\n"
   ]
  },
  {
   "cell_type": "code",
   "execution_count": null,
   "id": "1242ce11-bb8d-4b07-97c3-4f1e6522f2af",
   "metadata": {},
   "outputs": [],
   "source": []
  }
 ],
 "metadata": {
  "kernelspec": {
   "display_name": "Python 3 (ipykernel)",
   "language": "python",
   "name": "python3"
  },
  "language_info": {
   "codemirror_mode": {
    "name": "ipython",
    "version": 3
   },
   "file_extension": ".py",
   "mimetype": "text/x-python",
   "name": "python",
   "nbconvert_exporter": "python",
   "pygments_lexer": "ipython3",
   "version": "3.9.6"
  }
 },
 "nbformat": 4,
 "nbformat_minor": 5
}
