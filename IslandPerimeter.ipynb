{
 "cells": [
  {
   "cell_type": "code",
   "execution_count": 6,
   "id": "85d83b68-a27b-4636-bb96-d04b896476df",
   "metadata": {},
   "outputs": [],
   "source": [
    "class Solution(object):\n",
    "    def islandPerimeter(self, grid):\n",
    "        \"\"\"\n",
    "        :type grid: List[List[int]]\n",
    "        :rtype: int\n",
    "        \"\"\"\n",
    "        perimeter = 0\n",
    "        \n",
    "        for i in range(len(grid)):\n",
    "            for j in range(len(grid[i])):\n",
    "                if grid[i][j] == 1:  # terre\n",
    "                    perimeter += 4  # +4 au périmètre de l'île\n",
    "\n",
    "                    if j < len(grid[i]) - 1 and grid[i][j + 1] == 1:  # À droite\n",
    "                        perimeter -= 2\n",
    "\n",
    "                    if i < len(grid) - 1 and grid[i + 1][j] == 1:  # En bas\n",
    "                        perimeter -= 2\n",
    "        \n",
    "        return perimeter"
   ]
  },
  {
   "cell_type": "code",
   "execution_count": null,
   "id": "eb6a9410-5240-4159-a48d-934d6813d7f6",
   "metadata": {},
   "outputs": [],
   "source": []
  }
 ],
 "metadata": {
  "kernelspec": {
   "display_name": "Python 3 (ipykernel)",
   "language": "python",
   "name": "python3"
  },
  "language_info": {
   "codemirror_mode": {
    "name": "ipython",
    "version": 3
   },
   "file_extension": ".py",
   "mimetype": "text/x-python",
   "name": "python",
   "nbconvert_exporter": "python",
   "pygments_lexer": "ipython3",
   "version": "3.9.6"
  }
 },
 "nbformat": 4,
 "nbformat_minor": 5
}
